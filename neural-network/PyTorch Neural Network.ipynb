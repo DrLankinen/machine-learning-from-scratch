{
 "cells": [
  {
   "cell_type": "code",
   "execution_count": 1,
   "metadata": {},
   "outputs": [],
   "source": [
    "import torch\n",
    "import matplotlib.pyplot as plt"
   ]
  },
  {
   "cell_type": "markdown",
   "metadata": {},
   "source": [
    "In this example the input is just 1-D tensor. The two values could be something like leaf size and leaf width."
   ]
  },
  {
   "cell_type": "code",
   "execution_count": 2,
   "metadata": {},
   "outputs": [
    {
     "data": {
      "text/plain": [
       "torch.Size([1, 2])"
      ]
     },
     "execution_count": 2,
     "metadata": {},
     "output_type": "execute_result"
    }
   ],
   "source": [
    "x = torch.tensor([[1.,2.]])\n",
    "x.shape"
   ]
  },
  {
   "cell_type": "markdown",
   "metadata": {},
   "source": [
    "Label (y) is 5. The goal is to make a model that can map from x to y. This could be for example an index of maple. In that case the model could predict tree when leaf size and width given."
   ]
  },
  {
   "cell_type": "code",
   "execution_count": 3,
   "metadata": {},
   "outputs": [],
   "source": [
    "y = 5."
   ]
  },
  {
   "cell_type": "code",
   "execution_count": 4,
   "metadata": {},
   "outputs": [],
   "source": [
    "def initalize_parameters(size, variance=1.0):\n",
    "    return (torch.randn(size) * variance).requires_grad_()"
   ]
  },
  {
   "cell_type": "code",
   "execution_count": 5,
   "metadata": {},
   "outputs": [],
   "source": [
    "first_layer_output_size = 3"
   ]
  },
  {
   "cell_type": "markdown",
   "metadata": {},
   "source": [
    "Parameteres are changed to make the predictions closer to the real values."
   ]
  },
  {
   "cell_type": "code",
   "execution_count": 6,
   "metadata": {},
   "outputs": [
    {
     "data": {
      "text/plain": [
       "(tensor([[ 1.3673,  0.7495, -1.1173],\n",
       "         [ 0.1360,  0.7500, -0.9327]], requires_grad=True), torch.Size([2, 3]))"
      ]
     },
     "execution_count": 6,
     "metadata": {},
     "output_type": "execute_result"
    }
   ],
   "source": [
    "weights_1 = initalize_parameters((x.shape[1],first_layer_output_size))\n",
    "weights_1, weights_1.shape"
   ]
  },
  {
   "cell_type": "code",
   "execution_count": 7,
   "metadata": {},
   "outputs": [
    {
     "data": {
      "text/plain": [
       "(tensor([-2.5051], requires_grad=True), torch.Size([1]))"
      ]
     },
     "execution_count": 7,
     "metadata": {},
     "output_type": "execute_result"
    }
   ],
   "source": [
    "bias_1 = initalize_parameters(1)\n",
    "bias_1, bias_1.shape"
   ]
  },
  {
   "cell_type": "code",
   "execution_count": 8,
   "metadata": {},
   "outputs": [
    {
     "data": {
      "text/plain": [
       "(tensor([[-0.9567],\n",
       "         [-1.6121],\n",
       "         [ 0.6514]], requires_grad=True), torch.Size([3, 1]))"
      ]
     },
     "execution_count": 8,
     "metadata": {},
     "output_type": "execute_result"
    }
   ],
   "source": [
    "weights_2 = initalize_parameters((first_layer_output_size,1))\n",
    "weights_2, weights_2.shape"
   ]
  },
  {
   "cell_type": "code",
   "execution_count": 9,
   "metadata": {},
   "outputs": [
    {
     "data": {
      "text/plain": [
       "(tensor([0.2285], requires_grad=True), torch.Size([1]))"
      ]
     },
     "execution_count": 9,
     "metadata": {},
     "output_type": "execute_result"
    }
   ],
   "source": [
    "bias_2 = initalize_parameters(1)\n",
    "bias_2, bias_2.shape"
   ]
  },
  {
   "cell_type": "markdown",
   "metadata": {},
   "source": [
    "Neural network consists from **at least** two linear layer and non-linear layer between them. In linear layer weights are multiplied by x and then bias is added to that result."
   ]
  },
  {
   "cell_type": "code",
   "execution_count": 10,
   "metadata": {},
   "outputs": [],
   "source": [
    "def simple_neural_network(xb):\n",
    "    # linear\n",
    "    l1 = xb @ weights_1 + bias_1\n",
    "    # non-linear\n",
    "    l2 = l1.max(torch.tensor(0.0))\n",
    "    # linear\n",
    "    l3 = l2 @ weights_2 + bias_2\n",
    "    return l3"
   ]
  },
  {
   "cell_type": "markdown",
   "metadata": {},
   "source": [
    "Loss measures the difference between predictions and real values."
   ]
  },
  {
   "cell_type": "code",
   "execution_count": 11,
   "metadata": {},
   "outputs": [],
   "source": [
    "def loss_func(preds, yb):\n",
    "    # Mean Squared Error (MSE)\n",
    "    return ((preds-yb)**2).mean()"
   ]
  },
  {
   "cell_type": "markdown",
   "metadata": {},
   "source": [
    "Learning rate makes sure gradient can't modify parameters too much once."
   ]
  },
  {
   "cell_type": "code",
   "execution_count": 12,
   "metadata": {},
   "outputs": [],
   "source": [
    "lr = 10E-4"
   ]
  },
  {
   "cell_type": "code",
   "execution_count": 13,
   "metadata": {},
   "outputs": [],
   "source": [
    "def update_params(a):\n",
    "    a.data -= a.grad * lr\n",
    "    a.grad = None"
   ]
  },
  {
   "cell_type": "markdown",
   "metadata": {},
   "source": [
    "Every loop contains three simple steps:\n",
    "1. Make prediction\n",
    "2. Calculate how good the prediction was compared to the real value\n",
    "    - When calculating loss it automatically calculates gradient so we don't need to think about it\n",
    "3. Update parameters by substracting gradient times learning rate"
   ]
  },
  {
   "cell_type": "code",
   "execution_count": 14,
   "metadata": {},
   "outputs": [
    {
     "data": {
      "image/png": "[encoded data removed]",
      "text/plain": [
       "<Figure size 432x288 with 1 Axes>"
      ]
     },
     "metadata": {
      "needs_background": "light"
     },
     "output_type": "display_data"
    }
   ],
   "source": [
    "losses = []\n",
    "\n",
    "while(len(losses) == 0 or losses[-1] > 0.1):\n",
    "    preds = simple_neural_network(x)\n",
    "    loss = loss_func(preds, y)\n",
    "    loss.backward()\n",
    "    \n",
    "    update_params(weights_1)\n",
    "    update_params(bias_1)\n",
    "    \n",
    "    update_params(weights_2)\n",
    "    update_params(bias_2)\n",
    "    \n",
    "    losses.append(loss)\n",
    "    \n",
    "plt.plot(list(range(len(losses))), losses)\n",
    "plt.ylabel('loss (MSE)')\n",
    "plt.xlabel('steps')\n",
    "plt.show()"
   ]
  },
  {
   "cell_type": "code",
   "execution_count": null,
   "metadata": {},
   "outputs": [],
   "source": []
  }
 ],
 "metadata": {
  "kernelspec": {
   "display_name": "Python 3",
   "language": "python",
   "name": "python3"
  },
  "language_info": {
   "codemirror_mode": {
    "name": "ipython",
    "version": 3
   },
   "file_extension": ".py",
   "mimetype": "text/x-python",
   "name": "python",
   "nbconvert_exporter": "python",
   "pygments_lexer": "ipython3",
   "version": "3.7.3"
  }
 },
 "nbformat": 4,
 "nbformat_minor": 2
}
